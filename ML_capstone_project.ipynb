{
  "nbformat": 4,
  "nbformat_minor": 0,
  "metadata": {
    "colab": {
      "provenance": [],
      "authorship_tag": "ABX9TyOIBM4MBw6fHt6TpxSd6fHo",
      "include_colab_link": true
    },
    "kernelspec": {
      "name": "python3",
      "display_name": "Python 3"
    },
    "language_info": {
      "name": "python"
    }
  },
  "cells": [
    {
      "cell_type": "markdown",
      "metadata": {
        "id": "view-in-github",
        "colab_type": "text"
      },
      "source": [
        "<a href=\"https://colab.research.google.com/github/Sulaimon99/MyFirstGit/blob/master/ML_capstone_project.ipynb\" target=\"_parent\"><img src=\"https://colab.research.google.com/assets/colab-badge.svg\" alt=\"Open In Colab\"/></a>"
      ]
    },
    {
      "cell_type": "code",
      "source": [
        "\"\"\"\n",
        "INTRODUCTION\n",
        "Income Level Prediction\n",
        "\n",
        "This project focuses on building a machine learning model to predict whether an individual's income exceeds $50,000 per year using census data.\n",
        "\n",
        "this work python notebook covers:\n",
        "- Data cleaning and preparation\n",
        "- Exploratory Data Analysis (EDA)\n",
        "- Feature engineering\n",
        "- Model development and evaluation\n",
        "- Insights and recommendations\n"
      ],
      "metadata": {
        "colab": {
          "base_uri": "https://localhost:8080/",
          "height": 88
        },
        "id": "QNhw7w4m3GSZ",
        "outputId": "f8ef7a31-62da-4717-cf8b-a0be09065897"
      },
      "execution_count": 40,
      "outputs": [
        {
          "output_type": "execute_result",
          "data": {
            "text/plain": [
              "\"\\nINTRODUCTION\\nIncome Level Prediction\\n\\nThis project focuses on building a machine learning model to predict whether an individual's income exceeds $50,000 per year using census data. \\n\\nOver the course of two weeks, the project covers:\\n- Data cleaning and preparation\\n- Exploratory Data Analysis (EDA)\\n- Feature engineering\\n- Model development and evaluation\\n- Insights and recommendations\\n\\nThe final output is a well-structured Jupyter notebook showcasing the complete data science workflow.\\n\""
            ],
            "application/vnd.google.colaboratory.intrinsic+json": {
              "type": "string"
            }
          },
          "metadata": {},
          "execution_count": 40
        }
      ]
    },
    {
      "cell_type": "code",
      "source": [],
      "metadata": {
        "id": "E2FwnQAN4bPM"
      },
      "execution_count": null,
      "outputs": []
    },
    {
      "cell_type": "code",
      "execution_count": 39,
      "metadata": {
        "colab": {
          "base_uri": "https://localhost:8080/"
        },
        "id": "Bcu5x07wuMwf",
        "outputId": "c1b6a0c8-aa6e-444e-fbb7-591f3d637293"
      },
      "outputs": [
        {
          "output_type": "stream",
          "name": "stdout",
          "text": [
            "Requirement already satisfied: python-pptx in /usr/local/lib/python3.11/dist-packages (1.0.2)\n",
            "Requirement already satisfied: Pillow>=3.3.2 in /usr/local/lib/python3.11/dist-packages (from python-pptx) (11.2.1)\n",
            "Requirement already satisfied: XlsxWriter>=0.5.7 in /usr/local/lib/python3.11/dist-packages (from python-pptx) (3.2.5)\n",
            "Requirement already satisfied: lxml>=3.1.0 in /usr/local/lib/python3.11/dist-packages (from python-pptx) (5.4.0)\n",
            "Requirement already satisfied: typing-extensions>=4.9.0 in /usr/local/lib/python3.11/dist-packages (from python-pptx) (4.14.0)\n"
          ]
        }
      ],
      "source": [
        "# === IMPORTS ===\n",
        "import pandas as pd\n",
        "import numpy as np\n",
        "import matplotlib.pyplot as plt\n",
        "import seaborn as sns\n",
        "import os\n",
        "!pip install python-pptx\n",
        "from pptx import Presentation\n",
        "from pptx.util import Inches\n",
        "\n",
        "\n",
        "from sklearn.impute import SimpleImputer\n",
        "from sklearn.preprocessing import OneHotEncoder, LabelEncoder, MinMaxScaler\n",
        "from sklearn.model_selection import train_test_split\n",
        "from sklearn.linear_model import LogisticRegression\n",
        "from sklearn.neighbors import KNeighborsClassifier\n",
        "from sklearn.svm import SVC\n",
        "from sklearn.tree import DecisionTreeClassifier\n",
        "from sklearn.metrics import (\n",
        "    accuracy_score, precision_score, recall_score, f1_score,\n",
        "    classification_report, confusion_matrix, roc_auc_score, roc_curve\n",
        ")\n"
      ]
    },
    {
      "cell_type": "code",
      "source": [
        "# === EXPLORATORY DATA ANALYSIS ===\n",
        "#Load Dataset\n",
        "df = pd.read_csv(\"income_data.csv\")\n",
        "#clean columns and missing values\n",
        "df.columns = df.columns.str.strip().str.lower().str.replace(\"-\", \"_\")\n",
        "df.replace(\" ?\", pd.NA, inplace=True)\n",
        "df = df.dropna().copy()"
      ],
      "metadata": {
        "id": "O1Gmo0tOwOSd"
      },
      "execution_count": 24,
      "outputs": []
    },
    {
      "cell_type": "code",
      "source": [
        "# Create binary income column\n",
        "df['income_binary'] = df['income'].apply(lambda x: 1 if x.strip() == '>50K' else 0)\n",
        "df['income_label'] = df['income_binary'].map({0: '<=50K', 1: '>50K'})\n",
        "\n",
        "# Create folder to save plots\n",
        "plots_dir = \"eda_plots\"\n",
        "os.makedirs(plots_dir, exist_ok=True)\n"
      ],
      "metadata": {
        "id": "kTZ1wpBJvffZ"
      },
      "execution_count": 25,
      "outputs": []
    },
    {
      "cell_type": "code",
      "source": [
        "# Define and save plots\n",
        "def save_plot(plot_func, filename):\n",
        "    plt.clf()\n",
        "    plot_func()\n",
        "    plt.savefig(os.path.join(plots_dir, filename), bbox_inches='tight')\n",
        "    plt.close()"
      ],
      "metadata": {
        "id": "2uEVxm8Jvc1K"
      },
      "execution_count": 26,
      "outputs": []
    },
    {
      "cell_type": "code",
      "source": [
        "def plot_education_income():\n",
        "    edu_income = pd.crosstab(df['education'], df['income_binary'], normalize='index') * 100\n",
        "    edu_income.sort_values(1, ascending=False).plot(kind='bar', stacked=True, colormap='coolwarm')\n",
        "    plt.title('Percentage of Individuals Earning >50K by Education Level')\n",
        "    plt.ylabel('Percentage')\n",
        "    plt.xlabel('Education Level')\n",
        "    plt.legend(['<=50K', '>50K'], title='Income')\n",
        "    plt.xticks(rotation=45)"
      ],
      "metadata": {
        "id": "_epUx3UOvNH0"
      },
      "execution_count": 27,
      "outputs": []
    },
    {
      "cell_type": "code",
      "source": [
        "def plot_gender_income():\n",
        "    sns.barplot(data=df, x='sex', y='income_binary', hue='sex',\n",
        "                estimator=lambda x: 100 * sum(x) / len(x), errorbar=None,\n",
        "                palette='viridis', legend=False)\n",
        "    plt.title('Percentage of Individuals Earning >50K by Gender')\n",
        "    plt.ylabel('% Earning >50K')\n",
        "    plt.xlabel('Gender')\n",
        "    plt.ylim(0, 50)\n"
      ],
      "metadata": {
        "id": "qlgiS6bAvEm9"
      },
      "execution_count": 28,
      "outputs": []
    },
    {
      "cell_type": "code",
      "source": [
        "\n",
        "def plot_hours_income():\n",
        "    sns.histplot(data=df, x='hours_per_week', hue='income_binary', bins=30, kde=True,\n",
        "                 element='step', stat='density')\n",
        "    plt.title('Distribution of Weekly Working Hours by Income Group')\n",
        "    plt.xlabel('Hours per Week')\n",
        "    plt.ylabel('Density')"
      ],
      "metadata": {
        "id": "xMzJNr41vBhw"
      },
      "execution_count": 29,
      "outputs": []
    },
    {
      "cell_type": "code",
      "source": [
        "def plot_age_income():\n",
        "    sns.histplot(data=df, x='age', hue='income_label', bins=30, kde=True,\n",
        "                 stat='density', palette='Set2', element='step')\n",
        "    plt.title('Age Distribution by Income Group')\n",
        "    plt.xlabel('Age')\n",
        "    plt.ylabel('Density')\n",
        "\n"
      ],
      "metadata": {
        "id": "CWE68eL5u9Kv"
      },
      "execution_count": 30,
      "outputs": []
    },
    {
      "cell_type": "code",
      "source": [
        "def plot_occupation_income():\n",
        "    top_occupations = df.groupby('occupation')['income_binary'].mean().sort_values(ascending=False) * 100\n",
        "    top_occupations.plot(kind='bar', color='teal')\n",
        "    plt.title('Percentage of >50K Earners by Occupation')\n",
        "    plt.ylabel('% Earning >50K')\n",
        "    plt.xlabel('Occupation')\n",
        "    plt.xticks(rotation=45, ha='right')\n"
      ],
      "metadata": {
        "id": "tVzSq_8kuO2V"
      },
      "execution_count": 31,
      "outputs": []
    },
    {
      "cell_type": "code",
      "source": [
        "# Save all plots\n",
        "save_plot(plot_education_income, \"education_vs_income.png\")\n",
        "save_plot(plot_gender_income, \"gender_vs_income.png\")\n",
        "save_plot(plot_hours_income, \"hours_vs_income.png\")\n",
        "save_plot(plot_age_income, \"age_vs_income.png\")\n",
        "save_plot(plot_occupation_income, \"occupation_vs_income.png\")"
      ],
      "metadata": {
        "id": "Slb16E82uZ18"
      },
      "execution_count": 32,
      "outputs": []
    },
    {
      "cell_type": "code",
      "source": [
        "# Create PowerPoint\n",
        "prs = Presentation()\n",
        "title_slide_layout = prs.slide_layouts[0]\n",
        "slide = prs.slides.add_slide(title_slide_layout)\n",
        "slide.shapes.title.text = \"Exploratory Data Analysis: Income Dataset\"\n",
        "slide.placeholders[1].text = \"Generated with Python & Matplotlib\"\n",
        "\n",
        "# Add insight slides\n",
        "insights = [\n",
        "    (\"Education vs Income\", \"Higher education correlates with higher income.\",\n",
        "     \"education_vs_income.png\"),\n",
        "    (\"Gender Income Disparity\", \"Males are significantly more likely to earn >50K than females.\",\n",
        "     \"gender_vs_income.png\"),\n",
        "    (\"Working Hours vs Income\", \"High earners tend to work longer hours.\",\n",
        "     \"hours_vs_income.png\"),\n",
        "    (\"Age vs Income\", \"Mid-age individuals (30–60) dominate the high income group.\",\n",
        "     \"age_vs_income.png\"),\n",
        "    (\"Occupation vs Income\", \"Exec-managerial and Prof-specialty roles lead in income.\",\n",
        "     \"occupation_vs_income.png\")\n",
        "]\n",
        "\n",
        "for title, desc, img in insights:\n",
        "    layout = prs.slide_layouts[5]\n",
        "    slide = prs.slides.add_slide(layout)\n",
        "    slide.shapes.title.text = title\n",
        "    left = Inches(0.5)\n",
        "    top = Inches(1.5)\n",
        "    height = Inches(4.5)\n",
        "    slide.shapes.add_picture(os.path.join(plots_dir, img), left, top, height=height)\n",
        "    txBox = slide.shapes.add_textbox(Inches(0.5), Inches(0.2), Inches(9), Inches(1))\n",
        "    tf = txBox.text_frame\n",
        "    tf.text = desc\n",
        "\n",
        "# Save PowerPoint\n",
        "prs.save(\"Income_Data_EDA_Summary.pptx\")"
      ],
      "metadata": {
        "id": "zblxnU4X0H1l"
      },
      "execution_count": 33,
      "outputs": []
    },
    {
      "cell_type": "code",
      "source": [
        "# === MODELING AND EVALUATION SECTION ===\n",
        "\n",
        "# Drop unnecessary columns (corrected)\n",
        "df.drop(['fnlwgt', 'education_num'], axis=1, inplace=True)"
      ],
      "metadata": {
        "id": "fSlB5JTeyDOW"
      },
      "execution_count": 34,
      "outputs": []
    },
    {
      "cell_type": "code",
      "source": [
        "# Impute missing values (corrected column names)\n",
        "cols_to_fill = ['workclass', 'occupation', 'native_country']\n",
        "impute = SimpleImputer(strategy='most_frequent')\n",
        "df[cols_to_fill] = impute.fit_transform(df[cols_to_fill])"
      ],
      "metadata": {
        "id": "x80vo3DZ0nmY"
      },
      "execution_count": 35,
      "outputs": []
    },
    {
      "cell_type": "code",
      "source": [
        "\n",
        "# Prepare features and labels\n",
        "y = df['income']\n",
        "x = df.drop('income', axis=1)\n",
        "\n",
        "x_num = x.select_dtypes(include=np.number)\n",
        "x_cat = x.select_dtypes(exclude=np.number)\n"
      ],
      "metadata": {
        "id": "SRIElRCl0yer"
      },
      "execution_count": 37,
      "outputs": []
    },
    {
      "cell_type": "code",
      "source": [
        "# Encode categorical features\n",
        "cat_encoder = OneHotEncoder(sparse_output=False)\n",
        "encoded_cat = cat_encoder.fit_transform(x_cat)"
      ],
      "metadata": {
        "id": "hZz7G0W11llV"
      },
      "execution_count": null,
      "outputs": []
    },
    {
      "cell_type": "code",
      "source": [
        "# Encode labels\n",
        "y_encoder = LabelEncoder()\n",
        "encoded_y = y_encoder.fit_transform(y)"
      ],
      "metadata": {
        "id": "xbxtP3ML2A80"
      },
      "execution_count": null,
      "outputs": []
    },
    {
      "cell_type": "code",
      "source": [
        "# Scale numerical features\n",
        "num_scaler = MinMaxScaler()\n",
        "scaled_num = num_scaler.fit_transform(x_num)"
      ],
      "metadata": {
        "id": "CcGyKYmk2DYp"
      },
      "execution_count": null,
      "outputs": []
    },
    {
      "cell_type": "code",
      "source": [
        "# Combine processed features\n",
        "df_num = pd.DataFrame(scaled_num, columns=x_num.columns)\n",
        "df_cat = pd.DataFrame(encoded_cat, columns=cat_encoder.get_feature_names_out())\n",
        "df_preprocessed = pd.concat([df_num, df_cat], axis=1)"
      ],
      "metadata": {
        "id": "uLn4aic32DWn"
      },
      "execution_count": null,
      "outputs": []
    },
    {
      "cell_type": "code",
      "source": [
        "# Split data\n",
        "x_train, x_test, y_train, y_test = train_test_split(df_preprocessed, encoded_y, test_size=0.1, random_state=20)\n"
      ],
      "metadata": {
        "id": "dwgeEl5m2Su1"
      },
      "execution_count": null,
      "outputs": []
    },
    {
      "cell_type": "code",
      "source": [
        "# === MODEL TRAINING ===\n",
        "\n",
        "# Logistic Regression\n",
        "log_reg = LogisticRegression(max_iter=1000)\n",
        "log_reg.fit(x_train, y_train)\n",
        "y_pred_log = log_reg.predict(x_test)\n"
      ],
      "metadata": {
        "id": "DPCxULPI2VyD"
      },
      "execution_count": null,
      "outputs": []
    },
    {
      "cell_type": "code",
      "source": [
        "# KNN\n",
        "knn_classif = KNeighborsClassifier(n_neighbors=5)\n",
        "knn_classif.fit(x_train, y_train)\n",
        "y_pred_knn = knn_classif.predict(x_test)\n",
        "\n",
        "# SVM\n",
        "svm_linear = SVC(kernel='linear')\n",
        "svm_linear.fit(x_train, y_train)\n",
        "y_pred_svm = svm_linear.predict(x_test)\n",
        "\n",
        "# Decision Tree\n",
        "tree = DecisionTreeClassifier(max_depth=100)\n",
        "tree.fit(x_train, y_train)\n",
        "y_pred_tree = tree.predict(x_test)"
      ],
      "metadata": {
        "id": "k5fFyg1_2nqx"
      },
      "execution_count": null,
      "outputs": []
    },
    {
      "cell_type": "code",
      "source": [
        "# === EVALUATION ===\n",
        "print(\"Income value counts:\")\n",
        "print(df['income'].value_counts())\n",
        "\n",
        "print(\"\\nDecision Tree Confusion Matrix:\")\n",
        "sns.heatmap(confusion_matrix(y_test, y_pred_tree), annot=True)\n",
        "plt.show()\n",
        "\n",
        "print(\"\\nClassification Report (Decision Tree):\")\n",
        "print(classification_report(y_test, y_pred_tree))\n",
        "\n",
        "print(\"\\nROC AUC Score (Decision Tree):\", roc_auc_score(y_test, y_pred_tree))"
      ],
      "metadata": {
        "colab": {
          "base_uri": "https://localhost:8080/",
          "height": 777
        },
        "id": "4oZh1_8G2sKC",
        "outputId": "ad705e4f-a161-4179-f795-b75a72430667"
      },
      "execution_count": 38,
      "outputs": [
        {
          "output_type": "stream",
          "name": "stdout",
          "text": [
            "Income value counts:\n",
            "income\n",
            "<=50K    36080\n",
            ">50K     11541\n",
            "Name: count, dtype: int64\n",
            "\n",
            "Decision Tree Confusion Matrix:\n"
          ]
        },
        {
          "output_type": "display_data",
          "data": {
            "text/plain": [
              "<Figure size 640x480 with 2 Axes>"
            ],
            "image/png": "[encoded data removed]"
          },
          "metadata": {}
        },
        {
          "output_type": "stream",
          "name": "stdout",
          "text": [
            "\n",
            "Classification Report (Decision Tree):\n",
            "              precision    recall  f1-score   support\n",
            "\n",
            "           0       1.00      1.00      1.00      3607\n",
            "           1       1.00      1.00      1.00      1156\n",
            "\n",
            "    accuracy                           1.00      4763\n",
            "   macro avg       1.00      1.00      1.00      4763\n",
            "weighted avg       1.00      1.00      1.00      4763\n",
            "\n",
            "\n",
            "ROC AUC Score (Decision Tree): 1.0\n"
          ]
        }
      ]
    },
    {
      "cell_type": "code",
      "source": [],
      "metadata": {
        "id": "jGSXRHrD2weN"
      },
      "execution_count": null,
      "outputs": []
    }
  ]
}